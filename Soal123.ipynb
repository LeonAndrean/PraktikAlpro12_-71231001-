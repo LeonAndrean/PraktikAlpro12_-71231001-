{
 "cells": [
  {
   "cell_type": "code",
   "execution_count": 3,
   "metadata": {},
   "outputs": [
    {
     "name": "stdout",
     "output_type": "stream",
     "text": [
      "Masukkan 5 nama aplikasi di kategori Moba:\n",
      "Masukkan 5 nama aplikasi di kategori FPS:\n",
      "Masukkan 5 nama aplikasi di kategori Moba FPS:\n",
      "\n",
      "Data Aplikasi per Kategori: {'Moba': {'ML', 'AOV', 'LOL', 'Paladins', 'HOK'}, 'FPS': {'CSGO', 'Apex', 'PUBG', 'COD', 'Valorant'}, 'Moba FPS': {'Shellfire', 'Modern Combat', 'Shadowgun', 'Paladins', 'Ace Force'}}\n",
      "\n",
      "Aplikasi yang hanya muncul di 1 kategori saja: {'CSGO', 'Shellfire', 'ML', 'AOV', 'Apex', 'Modern Combat', 'PUBG', 'COD', 'LOL', 'Shadowgun', 'HOK', 'Ace Force', 'Valorant'}\n",
      "Aplikasi yang muncul tepat di 2 kategori sekaligus: {'Paladins'}\n"
     ]
    }
   ],
   "source": [
    "# Soal 1\n",
    "# Dari contoh kasus kategori kasus di Play Store, tambahkan kemampuan-kemampuan berikut ini:\n",
    "# • Tampilkan nama-nama aplikasi yang hanya muncul di satu kategori saja.\n",
    "# • Untuk input n>2, tampilkan nama-nama aplikasi yang muncul tepat di dua kategori sekaligus\n",
    "\n",
    "def input_aplikasi(inkategori):\n",
    "    data_apk = {}\n",
    "\n",
    "    for i in range(inkategori):\n",
    "        nama_kategori = input(f\"Masukkan Nama Kategori {i+1}: \")\n",
    "        print(f\"Masukkan 5 nama aplikasi di kategori {nama_kategori}:\")\n",
    "        apk = [input(\"Masukkan Nama Aplikasi: \") for _ in range(5)]\n",
    "        data_apk[nama_kategori] = set(apk)\n",
    "    return data_apk\n",
    "\n",
    "def aplikasi_unik(data_apk):\n",
    "    semua_aplikasi = set()\n",
    "    aplikasi_tunggal = set()\n",
    "\n",
    "    for apk_set in data_apk.values():\n",
    "        for apk in apk_set:\n",
    "            if apk in semua_aplikasi:\n",
    "                aplikasi_tunggal.discard(apk)\n",
    "            else:\n",
    "                semua_aplikasi.add(apk)\n",
    "                aplikasi_tunggal.add(apk)\n",
    "\n",
    "    return aplikasi_tunggal\n",
    "\n",
    "def aplikasi_dua_kategori(data_apk):\n",
    "    if len(data_apk) < 2:\n",
    "        return set()\n",
    "    from collections import Counter\n",
    "    count_apk = Counter(apk for apk_set in data_apk.values() for apk in apk_set)\n",
    "    aplikasi_dua = {apk for apk, count in count_apk.items() if count == 2}\n",
    "    return aplikasi_dua\n",
    "\n",
    "inkategori = int(input(\"Masukkan Jumlah Kategori: \"))\n",
    "data_apk = input_aplikasi(inkategori)\n",
    "print(\"\\nData Aplikasi per Kategori:\", data_apk)\n",
    "unik_aplikasi = aplikasi_unik(data_apk)\n",
    "print(\"\\nAplikasi yang hanya muncul di 1 kategori saja:\", unik_aplikasi)\n",
    "if inkategori > 2:\n",
    "    dua_kategori_aplikasi = aplikasi_dua_kategori(data_apk)\n",
    "    print(\"Aplikasi yang muncul tepat di 2 kategori sekaligus:\", dua_kategori_aplikasi)\n"
   ]
  },
  {
   "cell_type": "code",
   "execution_count": 4,
   "metadata": {},
   "outputs": [
    {
     "name": "stdout",
     "output_type": "stream",
     "text": [
      "List ke Set\n",
      "Sebelum :  ['S', 'a', 'y', 'a', ' ', 'S', 'u', 'k', 'a', ' ', 'M', 'a', 'k', 'a', 'n', ' ', 'K', 'a', 'm', 'u', ' ', 'W', 'K', 'W', 'K']\n",
      "Sesudah :  {'m', 'n', 'K', ' ', 'M', 'W', 'a', 'y', 'S', 'k', 'u'}\n",
      "\n",
      "Set ke List\n",
      "Sebelum :  {'m', 'n', 'K', ' ', 'M', 'W', 'a', 'y', 'S', 'k', 'u'}\n",
      "Sesudah :  ['m', 'n', 'K', ' ', 'M', 'W', 'a', 'y', 'S', 'k', 'u']\n",
      "\n",
      "Tuple ke Set\n",
      "Sebelum :  ('S', 'a', 'y', 'a', ' ', 'S', 'u', 'k', 'a', ' ', 'M', 'a', 'k', 'a', 'n', ' ', 'K', 'a', 'm', 'u', ' ', 'W', 'K', 'W', 'K')\n",
      "Sesudah :  {'m', 'n', 'K', ' ', 'M', 'W', 'a', 'y', 'S', 'k', 'u'}\n",
      "\n",
      "Set ke Tuple\n",
      "Sebelum :  {'m', 'n', 'K', ' ', 'M', 'W', 'a', 'y', 'S', 'k', 'u'}\n",
      "Sesudah :  ('m', 'n', 'K', ' ', 'M', 'W', 'a', 'y', 'S', 'k', 'u')\n"
     ]
    }
   ],
   "source": [
    "# Soal 2\n",
    "# Buatlah sebuah program yang mendemonstrasikan konversi dari:\n",
    "# • List menjadi Set\n",
    "# • Set menjadi List\n",
    "# • Tuple menjadi Set\n",
    "# • Set menjadi Tuple\n",
    "# Tampilkan isi data sebelum dan sesudah konversi.\n",
    "data = input(\"Masukkan kalimat kamu: \")\n",
    "data_list = list(data)\n",
    "\n",
    "print(\"List ke Set\")\n",
    "print(\"Sebelum : \", data_list)\n",
    "data_set_from_list = set(data_list)\n",
    "print(\"Sesudah : \", data_set_from_list)\n",
    "print()\n",
    "\n",
    "print(\"Set ke List\")\n",
    "print(\"Sebelum : \", data_set_from_list)\n",
    "data_list_from_set = list(data_set_from_list)\n",
    "print(\"Sesudah : \", data_list_from_set)\n",
    "print()\n",
    "\n",
    "data_tuple = tuple(data)\n",
    "print(\"Tuple ke Set\")\n",
    "print(\"Sebelum : \", data_tuple)\n",
    "data_set_from_tuple = set(data_tuple)\n",
    "print(\"Sesudah : \", data_set_from_tuple)\n",
    "print()\n",
    "\n",
    "print(\"Set ke Tuple\")\n",
    "print(\"Sebelum : \", data_set_from_tuple)\n",
    "data_tuple_from_set = tuple(data_set_from_tuple)\n",
    "print(\"Sesudah : \", data_tuple_from_set)\n"
   ]
  },
  {
   "cell_type": "code",
   "execution_count": 1,
   "metadata": {},
   "outputs": [
    {
     "name": "stdout",
     "output_type": "stream",
     "text": [
      "Kata-kata yang muncul di kedua file:\n",
      "hanya\n",
      "kau\n",
      "ini\n"
     ]
    }
   ],
   "source": [
    "# Soal 3\n",
    "# Buatlah sebuah program yang dapat membaca dua file teks dan menampilkan semua kata-kata yang muncul\n",
    "# pada kedua file tersebut. Beberapa hal yang perlu anda perhatikan:\n",
    "# • Nama file adalah input user. Tampilkan pesan error jika file tidak ditemukan/tidak bisa dibaca.\n",
    "# • Semua kata dikonversi dulu menjadi lowercase.\n",
    "# • Sertakan contoh file teks yang anda pakai saat mengumpulkan laporan.\n",
    "\n",
    "def baca_file(fileku):\n",
    "    try:\n",
    "        with open(fileku, 'r') as file:\n",
    "            return file.read().lower().split()\n",
    "    except FileNotFoundError:\n",
    "        print(f\"File '{fileku}' tidak ditemukan atau tidak bisa dibaca.\")\n",
    "        exit()\n",
    "\n",
    "def main():\n",
    "    tekspertama = input(\"Masukkan file teks 1: \")\n",
    "    tekskedua = input(\"Masukkan file teks 2: \")\n",
    "    \n",
    "    katafile1 = set(baca_file(tekspertama))\n",
    "    katafile2 = set(baca_file(tekskedua))\n",
    "    \n",
    "    katayangsama = katafile1.intersection(katafile2)\n",
    "    \n",
    "    if katayangsama:\n",
    "        print(\"Kata-kata yang muncul di kedua file:\")\n",
    "        for kata in katayangsama:\n",
    "            print(kata)\n",
    "    else:\n",
    "        print(\"Tidak ada kata yang muncul di kedua file.\")\n",
    "\n",
    "if __name__ == \"__main__\":\n",
    "    main()"
   ]
  }
 ],
 "metadata": {
  "kernelspec": {
   "display_name": "Python 3",
   "language": "python",
   "name": "python3"
  },
  "language_info": {
   "codemirror_mode": {
    "name": "ipython",
    "version": 3
   },
   "file_extension": ".py",
   "mimetype": "text/x-python",
   "name": "python",
   "nbconvert_exporter": "python",
   "pygments_lexer": "ipython3",
   "version": "3.11.4"
  }
 },
 "nbformat": 4,
 "nbformat_minor": 2
}
